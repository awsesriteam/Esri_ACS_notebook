{
 "cells": [
  {
   "cell_type": "markdown",
   "id": "e2652dd8",
   "metadata": {},
   "source": [
    "# Methods to automate creation of ArcGIS Cloud Storage (ACS) Connection Files:\n",
    "## Documentation: https://pro.arcgis.com/en/pro-app/latest/tool-reference/data-management/create-cloud-storage-connection-file.htm"
   ]
  },
  {
   "cell_type": "code",
   "execution_count": null,
   "id": "e88056bd",
   "metadata": {},
   "outputs": [],
   "source": [
    "# Sentinel-2 L2A COGs (no sign request - no keys needed)\n",
    "\n",
    "arcpy.management.CreateCloudStorageConnectionFile(\n",
    "    out_folder_path=r\"C:\\acsfiles\",\n",
    "    out_name=\"aws-sentinel2-l2a\",\n",
    "    service_provider=\"AMAZON\",\n",
    "    bucket_name=\"sentinel-cogs\",\n",
    "    access_key_id=\"\",\n",
    "    secret_access_key=\"\",\n",
    "    region=\"US West (Oregon)\",\n",
    "    end_point=\"s3-us-west-2.amazonaws.com\",\n",
    "    config_options=None,\n",
    "    folder=\"\",\n",
    "    authentication=\"\"\n",
    ")"
   ]
  },
  {
   "cell_type": "code",
   "execution_count": null,
   "id": "c6cdf6b4",
   "metadata": {},
   "outputs": [],
   "source": [
    "# NAIP (requester pays - needs keypair or alterntaive authentication parameter)\n",
    "\n",
    "arcpy.management.CreateCloudStorageConnectionFile(\n",
    "    out_folder_path=r\"C:\\acsfiles\",\n",
    "    out_name=\"aws-naip\",\n",
    "    service_provider=\"AMAZON\",\n",
    "    bucket_name=\"naip-analytic\",\n",
    "    access_key_id=\"<your_access_key>\",\n",
    "    secret_access_key=\"<your_secret_access_key>\",\n",
    "    region=\"US West (Oregon)\",\n",
    "    end_point=\"s3-us-west-2.amazonaws.com\",\n",
    "    config_options=\"AWS_REQUEST_PAYER requester\",\n",
    "    folder=\"\",\n",
    "    authentication=\"\"\n",
    ")"
   ]
  },
  {
   "cell_type": "code",
   "execution_count": 1,
   "id": "e8001413",
   "metadata": {},
   "outputs": [],
   "source": [
    "# Iterate over a STAC creating an ACS Connection File per collection\n",
    "# https://registry.opendata.aws/"
   ]
  },
  {
   "cell_type": "code",
   "execution_count": null,
   "id": "100d61ca",
   "metadata": {},
   "outputs": [],
   "source": [
    "#! pip install pystac_client"
   ]
  },
  {
   "cell_type": "code",
   "execution_count": 52,
   "id": "22d46f3f",
   "metadata": {},
   "outputs": [
    {
     "data": {
      "text/plain": [
       "'Earth Search by Element 84'"
      ]
     },
     "execution_count": 52,
     "metadata": {},
     "output_type": "execute_result"
    }
   ],
   "source": [
    "from pystac_client import Client\n",
    "\n",
    "catalog = Client.open('https://earth-search.aws.element84.com/v1')\n",
    "catalog.title"
   ]
  },
  {
   "cell_type": "code",
   "execution_count": 61,
   "id": "71c94be4",
   "metadata": {},
   "outputs": [],
   "source": [
    "colls = catalog.get_collections()"
   ]
  },
  {
   "cell_type": "code",
   "execution_count": 62,
   "id": "ccb80a24",
   "metadata": {},
   "outputs": [
    {
     "name": "stdout",
     "output_type": "stream",
     "text": [
      "cop-dem-glo-30\n",
      "The Copernicus DEM is a Digital Surface Model (DSM) which represents the surface of the Earth including buildings, infrastructure and vegetation. GLO-30 Public provides limited worldwide coverage at 30 meters because a small subset of tiles covering specific countries are not yet released to the public by the Copernicus Programme.\n",
      "\n",
      "\n",
      "naip\n",
      "The [National Agriculture Imagery Program](https://www.fsa.usda.gov/programs-and-services/aerial-photography/imagery-programs/naip-imagery/) (NAIP) provides U.S.-wide, high-resolution aerial imagery, with four spectral bands (R, G, B, IR).  NAIP is administered by the [Aerial Field Photography Office](https://www.fsa.usda.gov/programs-and-services/aerial-photography/) (AFPO) within the [US Department of Agriculture](https://www.usda.gov/) (USDA).  Data are captured at least once every three years for each state.  This dataset represents NAIP data from 2010-present, in [cloud-optimized GeoTIFF](https://www.cogeo.org/) format.\n",
      "\n",
      "\n",
      "\n",
      "sentinel-2-l2a\n",
      "Global Sentinel-2 data from the Multispectral Instrument (MSI) onboard Sentinel-2\n",
      "\n",
      "\n",
      "sentinel-2-l1c\n",
      "Global Sentinel-2 data from the Multispectral Instrument (MSI) onboard Sentinel-2\n",
      "\n",
      "\n",
      "cop-dem-glo-90\n",
      "The Copernicus DEM is a Digital Surface Model (DSM) which represents the surface of the Earth including buildings, infrastructure and vegetation. GLO-90 provides worldwide coverage at 90 meters.\n",
      "\n",
      "\n",
      "landsat-c2-l2\n",
      "Atmospherically corrected global Landsat Collection 2 Level-2 data from the Thematic Mapper (TM) onboard Landsat 4 and 5, the Enhanced Thematic Mapper Plus (ETM+) onboard Landsat 7, and the Operational Land Imager (OLI) and Thermal Infrared Sensor (TIRS) onboard Landsat 8 and 9.\n",
      "\n",
      "\n",
      "sentinel-1-grd\n",
      "Sentinel-1 is a pair of Synthetic Aperture Radar (SAR) imaging satellites launched in 2014 and 2016 by the European Space Agency (ESA). Their 6 day revisit cycle and ability to observe through clouds makes this dataset perfect for sea and land monitoring, emergency response due to environmental disasters, and economic applications. This dataset represents the global Sentinel-1 GRD archive, from beginning to the present, converted to cloud-optimized GeoTIFF format.\n",
      "\n",
      "\n",
      "sentinel-2-c1-l2a\n",
      "Sentinel-2 Collection 1 L2A, data from the Multispectral Instrument (MSI) onboard Sentinel-2\n",
      "\n",
      "\n",
      "Summarized details of 8 STAC Collections into CSV file.\n"
     ]
    }
   ],
   "source": [
    "import csv\n",
    "\n",
    "collection_info = []\n",
    "x = 0\n",
    "\n",
    "for collection in colls:\n",
    "    print(collection.id)\n",
    "    print(collection.description)\n",
    "    print(\"\\n\")\n",
    "    this_coll = catalog.get_collection(collection.id)\n",
    "    # NOTE: in the Earth-Search STAC collections we do not observe any metadata pertaining to the S3 bucket.\n",
    "    # This would be ideal info to generate ACS files for auto-refreshing ACS files that use token-vending services.\n",
    "    # See examples in documentation at: \n",
    "    # https://pro.arcgis.com/en/pro-app/latest/tool-reference/data-management/create-cloud-storage-connection-file.htm#:~:text=Custom%20token%20vending%20services\n",
    "    collection_info.append([collection.id, collection.description])\n",
    "    x += 1\n",
    "\n",
    "with open(r\"collection_details.csv\", \"w\", newline=\"\") as csvfile:\n",
    "    csv_writer = csv.writer(csvfile)\n",
    "    for row in collection_info:\n",
    "        csv_writer.writerow(row)\n",
    "    \n",
    "print(\"Summarized details of {} STAC Collections into CSV file.\".format(str(x)))"
   ]
  }
 ],
 "metadata": {
  "kernelspec": {
   "display_name": "Python 3 (ipykernel)",
   "language": "python",
   "name": "python3"
  },
  "language_info": {
   "codemirror_mode": {
    "name": "ipython",
    "version": 3
   },
   "file_extension": ".py",
   "mimetype": "text/x-python",
   "name": "python",
   "nbconvert_exporter": "python",
   "pygments_lexer": "ipython3",
   "version": "3.9.18"
  }
 },
 "nbformat": 4,
 "nbformat_minor": 5
}
